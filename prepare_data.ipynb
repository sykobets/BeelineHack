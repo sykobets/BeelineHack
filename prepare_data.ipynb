{
 "cells": [
  {
   "cell_type": "code",
   "execution_count": 35,
   "metadata": {
    "collapsed": false,
    "scrolled": false
   },
   "outputs": [],
   "source": [
    "import pandas as pd\n",
    "import numpy as np\n",
    "from sklearn.preprocessing import StandardScaler\n",
    "\n",
    "data_dir = '/Users/kobets/beeline_data/'"
   ]
  },
  {
   "cell_type": "code",
   "execution_count": 4,
   "metadata": {
    "collapsed": false
   },
   "outputs": [
    {
     "data": {
      "text/plain": [
       "(5454190, 10)"
      ]
     },
     "execution_count": 4,
     "metadata": {},
     "output_type": "execute_result"
    }
   ],
   "source": [
    "data = pd.read_csv(data_dir + 'train.csv')\n",
    "data.shape"
   ]
  },
  {
   "cell_type": "code",
   "execution_count": 37,
   "metadata": {
    "collapsed": false
   },
   "outputs": [
    {
     "data": {
      "text/plain": [
       "1211373"
      ]
     },
     "execution_count": 37,
     "metadata": {},
     "output_type": "execute_result"
    }
   ],
   "source": [
    "person_A = list(data['A'].unique())\n",
    "person_B = list(data['B'].unique())\n",
    "persons_all = set(person_A + person_B)\n",
    "len(persons_all)"
   ]
  },
  {
   "cell_type": "markdown",
   "metadata": {},
   "source": [
    "# Сопоставление пользователей с компаниями "
   ]
  },
  {
   "cell_type": "code",
   "execution_count": 38,
   "metadata": {
    "collapsed": false
   },
   "outputs": [
    {
     "name": "stderr",
     "output_type": "stream",
     "text": [
      "/Users/kobets/miniconda3/lib/python3.5/site-packages/ipykernel/__main__.py:1: FutureWarning: sort(columns=....) is deprecated, use sort_values(by=.....)\n",
      "  if __name__ == '__main__':\n"
     ]
    },
    {
     "data": {
      "text/plain": [
       "(973629, 2)"
      ]
     },
     "execution_count": 38,
     "metadata": {},
     "output_type": "execute_result"
    }
   ],
   "source": [
    "company_df_1 = data.sort('A').copy()\n",
    "company_df_1.drop(labels=['B', 'x_B', 'c_AB', 'd_AB', 'c_BA', 'd_BA', 's_AB', 's_BA'], axis=1, inplace=True)\n",
    "company_df_1.columns = ['person_id', 'company_id']\n",
    "company_df_1.drop_duplicates(inplace=True)\n",
    "company_df_1.shape"
   ]
  },
  {
   "cell_type": "code",
   "execution_count": 39,
   "metadata": {
    "collapsed": false
   },
   "outputs": [
    {
     "name": "stderr",
     "output_type": "stream",
     "text": [
      "/Users/kobets/miniconda3/lib/python3.5/site-packages/ipykernel/__main__.py:1: FutureWarning: sort(columns=....) is deprecated, use sort_values(by=.....)\n",
      "  if __name__ == '__main__':\n"
     ]
    },
    {
     "data": {
      "text/plain": [
       "(910674, 2)"
      ]
     },
     "execution_count": 39,
     "metadata": {},
     "output_type": "execute_result"
    }
   ],
   "source": [
    "company_df_2 = data.sort('B').copy()\n",
    "company_df_2.drop(labels=['A', 'x_A', 'c_AB', 'd_AB', 'c_BA', 'd_BA', 's_AB', 's_BA'], axis=1, inplace=True)\n",
    "company_df_2.columns = ['person_id', 'company_id']\n",
    "company_df_2.drop_duplicates(inplace=True)\n",
    "company_df_2.shape"
   ]
  },
  {
   "cell_type": "code",
   "execution_count": 40,
   "metadata": {
    "collapsed": false
   },
   "outputs": [
    {
     "name": "stderr",
     "output_type": "stream",
     "text": [
      "/Users/kobets/miniconda3/lib/python3.5/site-packages/ipykernel/__main__.py:1: FutureWarning: sort(columns=....) is deprecated, use sort_values(by=.....)\n",
      "  if __name__ == '__main__':\n"
     ]
    },
    {
     "data": {
      "text/plain": [
       "1211810"
      ]
     },
     "execution_count": 40,
     "metadata": {},
     "output_type": "execute_result"
    }
   ],
   "source": [
    "company_df = pd.concat([company_df_1, company_df_2]).sort('person_id')\n",
    "company_df.drop_duplicates(inplace=True)\n",
    "company_df.shape[0]"
   ]
  },
  {
   "cell_type": "code",
   "execution_count": 42,
   "metadata": {
    "collapsed": false
   },
   "outputs": [
    {
     "data": {
      "text/plain": [
       "437"
      ]
     },
     "execution_count": 42,
     "metadata": {},
     "output_type": "execute_result"
    }
   ],
   "source": [
    "user_comp_counts = company_df['person_id'].value_counts()\n",
    "bad_user_list = [i for i in persons_all if user_comp_counts[i] > 1]\n",
    "len(bad_user_list)"
   ]
  },
  {
   "cell_type": "code",
   "execution_count": 341,
   "metadata": {
    "collapsed": false
   },
   "outputs": [],
   "source": [
    "for u in bad_user_list:\n",
    "    d = {i:0 for i in set(company_df[company_df['person_id'] == u]['company_id'])}\n",
    "    for l in ['A', 'B']:\n",
    "        co = data[data['%s' % l] == u]['x_%s' %l].value_counts()\n",
    "        if len(co) > 0:\n",
    "            d[co.argmin()] = d[co.argmin()] + co.min()\n",
    "            d[co.argmax()] = d[co.argmax()] + co.max()\n",
    "    \n",
    "    company_df.set_value(company_df['person_id'] == u, 'company_id', max(d, key=d.get))"
   ]
  },
  {
   "cell_type": "code",
   "execution_count": 342,
   "metadata": {
    "collapsed": false
   },
   "outputs": [],
   "source": [
    "company_df.drop_duplicates(inplace=True)\n",
    "company_df.to_csv(data_dir + 'companies.csv', index=False, header=False)\n",
    "\n",
    "with open(data_dir + 'companies_desc.txt', 'w') as f:\n",
    "    for i in company_df.columns:\n",
    "        f.write(i + '\\n')"
   ]
  },
  {
   "cell_type": "code",
   "execution_count": 29,
   "metadata": {
    "collapsed": false
   },
   "outputs": [
    {
     "data": {
      "text/html": [
       "<div>\n",
       "<table border=\"1\" class=\"dataframe\">\n",
       "  <thead>\n",
       "    <tr style=\"text-align: right;\">\n",
       "      <th></th>\n",
       "      <th>person_id</th>\n",
       "      <th>company_id</th>\n",
       "    </tr>\n",
       "  </thead>\n",
       "  <tbody>\n",
       "    <tr>\n",
       "      <th>0</th>\n",
       "      <td>0</td>\n",
       "      <td>3</td>\n",
       "    </tr>\n",
       "    <tr>\n",
       "      <th>1</th>\n",
       "      <td>1</td>\n",
       "      <td>3</td>\n",
       "    </tr>\n",
       "    <tr>\n",
       "      <th>2</th>\n",
       "      <td>2</td>\n",
       "      <td>3</td>\n",
       "    </tr>\n",
       "    <tr>\n",
       "      <th>3</th>\n",
       "      <td>3</td>\n",
       "      <td>3</td>\n",
       "    </tr>\n",
       "    <tr>\n",
       "      <th>4</th>\n",
       "      <td>4</td>\n",
       "      <td>3</td>\n",
       "    </tr>\n",
       "  </tbody>\n",
       "</table>\n",
       "</div>"
      ],
      "text/plain": [
       "   person_id  company_id\n",
       "0          0           3\n",
       "1          1           3\n",
       "2          2           3\n",
       "3          3           3\n",
       "4          4           3"
      ]
     },
     "execution_count": 29,
     "metadata": {},
     "output_type": "execute_result"
    }
   ],
   "source": [
    "names = [i.rstrip('\\n') for i in open(data_dir + 'companies_desc.txt')]\n",
    "company_df = pd.read_csv(data_dir + 'companies.csv', header=None, names=names)\n",
    "company_df.head()"
   ]
  },
  {
   "cell_type": "markdown",
   "metadata": {},
   "source": [
    "# Нормализация исходных данных"
   ]
  },
  {
   "cell_type": "code",
   "execution_count": 83,
   "metadata": {
    "collapsed": false
   },
   "outputs": [],
   "source": [
    "X = data.copy()\n",
    "\n",
    "X['person_A'] = X[['A', 'B']].min(axis=1)\n",
    "X['person_B'] = X[['A', 'B']].max(axis=1)\n",
    "\n",
    "X.set_value(X['A'] == X['person_A'], 'company_A', X['x_A'])\n",
    "X.set_value(X['A'] != X['person_A'], 'company_A', X['x_B'])\n",
    "X.set_value(X['B'] == X['person_B'], 'company_B', X['x_B'])\n",
    "X.set_value(X['B'] != X['person_B'], 'company_B', X['x_A'])\n",
    "\n",
    "X.set_value(X['A'] == X['person_A'], 'messages_A', X['c_AB'])\n",
    "X.set_value(X['A'] != X['person_A'], 'messages_A', X['c_BA'])\n",
    "X.set_value(X['B'] == X['person_B'], 'messages_B', X['c_BA'])\n",
    "X.set_value(X['B'] != X['person_B'], 'messages_B', X['c_AB'])\n",
    "\n",
    "X.set_value(X['A'] == X['person_A'], 'calls_A', X['d_AB'])\n",
    "X.set_value(X['A'] != X['person_A'], 'calls_A', X['d_BA'])\n",
    "X.set_value(X['B'] == X['person_B'], 'calls_B', X['d_BA'])\n",
    "X.set_value(X['B'] != X['person_B'], 'calls_B', X['d_AB'])\n",
    "\n",
    "X.set_value(X['A'] == X['person_A'], 'files_A', X['s_AB'])\n",
    "X.set_value(X['A'] != X['person_A'], 'files_A', X['s_BA'])\n",
    "X.set_value(X['B'] == X['person_B'], 'files_B', X['s_BA'])\n",
    "X.set_value(X['B'] != X['person_B'], 'files_B', X['s_AB'])\n",
    "\n",
    "X.drop(labels=['A', 'B', 'x_A', 'x_B', 'c_AB', 'c_BA', 'd_AB', 'd_BA', 's_AB', 's_BA'], axis=1, inplace=True)"
   ]
  },
  {
   "cell_type": "code",
   "execution_count": 84,
   "metadata": {
    "collapsed": false
   },
   "outputs": [
    {
     "data": {
      "text/html": [
       "<div>\n",
       "<table border=\"1\" class=\"dataframe\">\n",
       "  <thead>\n",
       "    <tr style=\"text-align: right;\">\n",
       "      <th></th>\n",
       "      <th>person_A</th>\n",
       "      <th>person_B</th>\n",
       "      <th>company_A</th>\n",
       "      <th>company_B</th>\n",
       "      <th>messages_A</th>\n",
       "      <th>messages_B</th>\n",
       "      <th>calls_A</th>\n",
       "      <th>calls_B</th>\n",
       "      <th>files_A</th>\n",
       "      <th>files_B</th>\n",
       "    </tr>\n",
       "  </thead>\n",
       "  <tbody>\n",
       "    <tr>\n",
       "      <th>0</th>\n",
       "      <td>666804</td>\n",
       "      <td>941235</td>\n",
       "      <td>1.0</td>\n",
       "      <td>0.0</td>\n",
       "      <td>1.0</td>\n",
       "      <td>1.0</td>\n",
       "      <td>22.0</td>\n",
       "      <td>20.0</td>\n",
       "      <td>0.0</td>\n",
       "      <td>0.0</td>\n",
       "    </tr>\n",
       "    <tr>\n",
       "      <th>1</th>\n",
       "      <td>367223</td>\n",
       "      <td>604328</td>\n",
       "      <td>0.0</td>\n",
       "      <td>1.0</td>\n",
       "      <td>5.0</td>\n",
       "      <td>0.0</td>\n",
       "      <td>1364.0</td>\n",
       "      <td>0.0</td>\n",
       "      <td>0.0</td>\n",
       "      <td>0.0</td>\n",
       "    </tr>\n",
       "    <tr>\n",
       "      <th>2</th>\n",
       "      <td>932768</td>\n",
       "      <td>977234</td>\n",
       "      <td>0.0</td>\n",
       "      <td>0.0</td>\n",
       "      <td>1.0</td>\n",
       "      <td>0.0</td>\n",
       "      <td>168.0</td>\n",
       "      <td>0.0</td>\n",
       "      <td>0.0</td>\n",
       "      <td>0.0</td>\n",
       "    </tr>\n",
       "    <tr>\n",
       "      <th>3</th>\n",
       "      <td>395101</td>\n",
       "      <td>677107</td>\n",
       "      <td>0.0</td>\n",
       "      <td>1.0</td>\n",
       "      <td>1.0</td>\n",
       "      <td>0.0</td>\n",
       "      <td>160.0</td>\n",
       "      <td>0.0</td>\n",
       "      <td>0.0</td>\n",
       "      <td>0.0</td>\n",
       "    </tr>\n",
       "    <tr>\n",
       "      <th>4</th>\n",
       "      <td>102647</td>\n",
       "      <td>250712</td>\n",
       "      <td>0.0</td>\n",
       "      <td>0.0</td>\n",
       "      <td>3.0</td>\n",
       "      <td>0.0</td>\n",
       "      <td>456.0</td>\n",
       "      <td>0.0</td>\n",
       "      <td>0.0</td>\n",
       "      <td>0.0</td>\n",
       "    </tr>\n",
       "  </tbody>\n",
       "</table>\n",
       "</div>"
      ],
      "text/plain": [
       "   person_A  person_B  company_A  company_B  messages_A  messages_B  calls_A  \\\n",
       "0    666804    941235        1.0        0.0         1.0         1.0     22.0   \n",
       "1    367223    604328        0.0        1.0         5.0         0.0   1364.0   \n",
       "2    932768    977234        0.0        0.0         1.0         0.0    168.0   \n",
       "3    395101    677107        0.0        1.0         1.0         0.0    160.0   \n",
       "4    102647    250712        0.0        0.0         3.0         0.0    456.0   \n",
       "\n",
       "   calls_B  files_A  files_B  \n",
       "0     20.0      0.0      0.0  \n",
       "1      0.0      0.0      0.0  \n",
       "2      0.0      0.0      0.0  \n",
       "3      0.0      0.0      0.0  \n",
       "4      0.0      0.0      0.0  "
      ]
     },
     "execution_count": 84,
     "metadata": {},
     "output_type": "execute_result"
    }
   ],
   "source": [
    "X.head()"
   ]
  },
  {
   "cell_type": "markdown",
   "metadata": {},
   "source": [
    "## исправление id компаний"
   ]
  },
  {
   "cell_type": "code",
   "execution_count": 92,
   "metadata": {
    "collapsed": false
   },
   "outputs": [
    {
     "data": {
      "text/html": [
       "<div>\n",
       "<table border=\"1\" class=\"dataframe\">\n",
       "  <thead>\n",
       "    <tr style=\"text-align: right;\">\n",
       "      <th></th>\n",
       "      <th>person_id</th>\n",
       "      <th>company_id</th>\n",
       "    </tr>\n",
       "  </thead>\n",
       "  <tbody>\n",
       "    <tr>\n",
       "      <th>0</th>\n",
       "      <td>0</td>\n",
       "      <td>3</td>\n",
       "    </tr>\n",
       "    <tr>\n",
       "      <th>1</th>\n",
       "      <td>1</td>\n",
       "      <td>3</td>\n",
       "    </tr>\n",
       "    <tr>\n",
       "      <th>2</th>\n",
       "      <td>2</td>\n",
       "      <td>3</td>\n",
       "    </tr>\n",
       "    <tr>\n",
       "      <th>3</th>\n",
       "      <td>3</td>\n",
       "      <td>3</td>\n",
       "    </tr>\n",
       "    <tr>\n",
       "      <th>4</th>\n",
       "      <td>4</td>\n",
       "      <td>3</td>\n",
       "    </tr>\n",
       "  </tbody>\n",
       "</table>\n",
       "</div>"
      ],
      "text/plain": [
       "   person_id  company_id\n",
       "0          0           3\n",
       "1          1           3\n",
       "2          2           3\n",
       "3          3           3\n",
       "4          4           3"
      ]
     },
     "execution_count": 92,
     "metadata": {},
     "output_type": "execute_result"
    }
   ],
   "source": [
    "names = [i.rstrip('\\n') for i in open('/Users/kobets/beeline_data/companies_desc.txt')]\n",
    "companies_df = pd.read_csv('/Users/kobets/beeline_data/companies.csv', header=None, names=names)\n",
    "companies_df.head()"
   ]
  },
  {
   "cell_type": "code",
   "execution_count": 86,
   "metadata": {
    "collapsed": false
   },
   "outputs": [],
   "source": [
    "for u in bad_user_list:\n",
    "    comp_id = int(companies_df[companies_df['person_id'] == u]['company_id'])\n",
    "    X.set_value(X['person_A'] == u, 'company_A', comp_id)\n",
    "    X.set_value(X['person_B'] == u, 'company_B', comp_id)"
   ]
  },
  {
   "cell_type": "code",
   "execution_count": 88,
   "metadata": {
    "collapsed": true
   },
   "outputs": [],
   "source": [
    "X = X.astype(int)\n",
    "X.to_csv('/Users/kobets/beeline_data/train_new.csv', index=False, header=False)\n",
    "\n",
    "with open(data_dir + 'train_new_desc.txt', 'w') as f:\n",
    "    for i in X.columns:\n",
    "        f.write(i + '\\n')"
   ]
  },
  {
   "cell_type": "markdown",
   "metadata": {},
   "source": [
    "# Подсчет связей между компаниями"
   ]
  },
  {
   "cell_type": "code",
   "execution_count": 242,
   "metadata": {
    "collapsed": false
   },
   "outputs": [],
   "source": [
    "X['company_min'] = X[['company_A', 'company_B']].min(axis=1)\n",
    "X['company_max'] = X[['company_A', 'company_B']].max(axis=1)\n",
    "X['companies'] = [tuple(x) for x in X[['company_min', 'company_max']].values]"
   ]
  },
  {
   "cell_type": "code",
   "execution_count": 246,
   "metadata": {
    "collapsed": false
   },
   "outputs": [
    {
     "data": {
      "text/plain": [
       "{(0, 0): 1295327,\n",
       " (0, 1): 1381139,\n",
       " (0, 2): 1118652,\n",
       " (0, 3): 1609742,\n",
       " (0, 4): 23187,\n",
       " (1, 1): 2805,\n",
       " (1, 2): 270,\n",
       " (1, 3): 3228,\n",
       " (1, 4): 73,\n",
       " (2, 2): 1932,\n",
       " (2, 3): 2727,\n",
       " (2, 4): 36,\n",
       " (3, 3): 14732,\n",
       " (3, 4): 110,\n",
       " (4, 4): 110}"
      ]
     },
     "execution_count": 246,
     "metadata": {},
     "output_type": "execute_result"
    }
   ],
   "source": [
    "companies_links = dict()\n",
    "for i in range(5):\n",
    "    for j in range(i, 5):\n",
    "        companies_links[(i, j)] = sum(X['companies'] == (i, j))\n",
    "        \n",
    "companies_links"
   ]
  },
  {
   "cell_type": "code",
   "execution_count": 27,
   "metadata": {
    "collapsed": false
   },
   "outputs": [],
   "source": [
    "companies_links_df = pd.DataFrame(sorted([(i[0][0], i[0][1], i[1]) for i in list(companies_links.items())]),\n",
    "                  columns=['company_A', 'company_B', 'companies_links'])"
   ]
  },
  {
   "cell_type": "code",
   "execution_count": 30,
   "metadata": {
    "collapsed": false
   },
   "outputs": [
    {
     "data": {
      "text/plain": [
       "{0: 350577, 1: 264077, 2: 239175, 3: 353920, 4: 3624}"
      ]
     },
     "execution_count": 30,
     "metadata": {},
     "output_type": "execute_result"
    }
   ],
   "source": [
    "company_size = {i:company_df.company_id.value_counts()[i] for i in range(5)}\n",
    "company_size"
   ]
  },
  {
   "cell_type": "code",
   "execution_count": 31,
   "metadata": {
    "collapsed": false
   },
   "outputs": [],
   "source": [
    "# максивальеное возможное число связей между парой компаний\n",
    "\n",
    "for i in range(5):\n",
    "    for j in range(i,5):\n",
    "        companies_links_df.set_value((companies_links_df.company_A == i) & (companies_links_df.company_B == j),\n",
    "                                    'companies_potential', company_size[i] * company_size[j])\n",
    "\n",
    "for i in range(5):\n",
    "    companies_links_df.set_value((companies_links_df.company_A == i) & (companies_links_df.company_B == i),\n",
    "                                    'companies_potential', company_size[i]*(company_size[i] - 1)/2)"
   ]
  },
  {
   "cell_type": "code",
   "execution_count": 43,
   "metadata": {
    "collapsed": false
   },
   "outputs": [
    {
     "data": {
      "text/html": [
       "<div>\n",
       "<table border=\"1\" class=\"dataframe\">\n",
       "  <thead>\n",
       "    <tr style=\"text-align: right;\">\n",
       "      <th></th>\n",
       "      <th>company_A</th>\n",
       "      <th>company_B</th>\n",
       "      <th>companies_links</th>\n",
       "      <th>companies_potential</th>\n",
       "    </tr>\n",
       "  </thead>\n",
       "  <tbody>\n",
       "    <tr>\n",
       "      <th>0</th>\n",
       "      <td>0</td>\n",
       "      <td>0</td>\n",
       "      <td>1295327</td>\n",
       "      <td>61451941176</td>\n",
       "    </tr>\n",
       "    <tr>\n",
       "      <th>1</th>\n",
       "      <td>0</td>\n",
       "      <td>1</td>\n",
       "      <td>1381139</td>\n",
       "      <td>92579322429</td>\n",
       "    </tr>\n",
       "    <tr>\n",
       "      <th>2</th>\n",
       "      <td>0</td>\n",
       "      <td>2</td>\n",
       "      <td>1118652</td>\n",
       "      <td>83849253975</td>\n",
       "    </tr>\n",
       "    <tr>\n",
       "      <th>3</th>\n",
       "      <td>0</td>\n",
       "      <td>3</td>\n",
       "      <td>1609742</td>\n",
       "      <td>124076211840</td>\n",
       "    </tr>\n",
       "    <tr>\n",
       "      <th>4</th>\n",
       "      <td>0</td>\n",
       "      <td>4</td>\n",
       "      <td>23187</td>\n",
       "      <td>1270491048</td>\n",
       "    </tr>\n",
       "    <tr>\n",
       "      <th>5</th>\n",
       "      <td>1</td>\n",
       "      <td>1</td>\n",
       "      <td>2805</td>\n",
       "      <td>34868198926</td>\n",
       "    </tr>\n",
       "    <tr>\n",
       "      <th>6</th>\n",
       "      <td>1</td>\n",
       "      <td>2</td>\n",
       "      <td>270</td>\n",
       "      <td>63160616475</td>\n",
       "    </tr>\n",
       "    <tr>\n",
       "      <th>7</th>\n",
       "      <td>1</td>\n",
       "      <td>3</td>\n",
       "      <td>3228</td>\n",
       "      <td>93462131840</td>\n",
       "    </tr>\n",
       "    <tr>\n",
       "      <th>8</th>\n",
       "      <td>1</td>\n",
       "      <td>4</td>\n",
       "      <td>73</td>\n",
       "      <td>957015048</td>\n",
       "    </tr>\n",
       "    <tr>\n",
       "      <th>9</th>\n",
       "      <td>2</td>\n",
       "      <td>2</td>\n",
       "      <td>1932</td>\n",
       "      <td>28602220725</td>\n",
       "    </tr>\n",
       "    <tr>\n",
       "      <th>10</th>\n",
       "      <td>2</td>\n",
       "      <td>3</td>\n",
       "      <td>2727</td>\n",
       "      <td>84648816000</td>\n",
       "    </tr>\n",
       "    <tr>\n",
       "      <th>11</th>\n",
       "      <td>2</td>\n",
       "      <td>4</td>\n",
       "      <td>36</td>\n",
       "      <td>866770200</td>\n",
       "    </tr>\n",
       "    <tr>\n",
       "      <th>12</th>\n",
       "      <td>3</td>\n",
       "      <td>3</td>\n",
       "      <td>14732</td>\n",
       "      <td>62629506240</td>\n",
       "    </tr>\n",
       "    <tr>\n",
       "      <th>13</th>\n",
       "      <td>3</td>\n",
       "      <td>4</td>\n",
       "      <td>110</td>\n",
       "      <td>1282606080</td>\n",
       "    </tr>\n",
       "    <tr>\n",
       "      <th>14</th>\n",
       "      <td>4</td>\n",
       "      <td>4</td>\n",
       "      <td>110</td>\n",
       "      <td>6564876</td>\n",
       "    </tr>\n",
       "  </tbody>\n",
       "</table>\n",
       "</div>"
      ],
      "text/plain": [
       "    company_A  company_B  companies_links  companies_potential\n",
       "0           0          0          1295327          61451941176\n",
       "1           0          1          1381139          92579322429\n",
       "2           0          2          1118652          83849253975\n",
       "3           0          3          1609742         124076211840\n",
       "4           0          4            23187           1270491048\n",
       "5           1          1             2805          34868198926\n",
       "6           1          2              270          63160616475\n",
       "7           1          3             3228          93462131840\n",
       "8           1          4               73            957015048\n",
       "9           2          2             1932          28602220725\n",
       "10          2          3             2727          84648816000\n",
       "11          2          4               36            866770200\n",
       "12          3          3            14732          62629506240\n",
       "13          3          4              110           1282606080\n",
       "14          4          4              110              6564876"
      ]
     },
     "execution_count": 43,
     "metadata": {},
     "output_type": "execute_result"
    }
   ],
   "source": [
    "companies_links_df"
   ]
  },
  {
   "cell_type": "code",
   "execution_count": 32,
   "metadata": {
    "collapsed": true
   },
   "outputs": [],
   "source": [
    "companies_links_df = companies_links_df.astype(int)\n",
    "companies_links_df.to_csv('/Users/kobets/beeline_data/companies_links.csv', index=False, header=False)\n",
    "\n",
    "with open(data_dir + 'companies_links_desc.txt', 'w') as f:\n",
    "    for i in companies_links_df.columns:\n",
    "        f.write(i + '\\n')"
   ]
  },
  {
   "cell_type": "code",
   "execution_count": 42,
   "metadata": {
    "collapsed": false
   },
   "outputs": [],
   "source": [
    "names = [i.rstrip('\\n') for i in open('/Users/kobets/beeline_data/companies_links_desc.txt')]\n",
    "companies_links_df = pd.read_csv('/Users/kobets/beeline_data/companies_links.csv', header=None, names=names)"
   ]
  },
  {
   "cell_type": "code",
   "execution_count": 13,
   "metadata": {
    "collapsed": true
   },
   "outputs": [],
   "source": [
    "companies_links_df['a1'] = companies_links_df.companies_links / (companies_links_df.companies_potential - companies_links_df.companies_links)"
   ]
  },
  {
   "cell_type": "code",
   "execution_count": 15,
   "metadata": {
    "collapsed": false
   },
   "outputs": [
    {
     "name": "stderr",
     "output_type": "stream",
     "text": [
      "/Users/kobets/miniconda3/lib/python3.5/site-packages/sklearn/preprocessing/data.py:583: DeprecationWarning: Passing 1d arrays as data is deprecated in 0.17 and will raise ValueError in 0.19. Reshape your data either using X.reshape(-1, 1) if your data has a single feature or X.reshape(1, -1) if it contains a single sample.\n",
      "  warnings.warn(DEPRECATION_MSG_1D, DeprecationWarning)\n",
      "/Users/kobets/miniconda3/lib/python3.5/site-packages/sklearn/preprocessing/data.py:646: DeprecationWarning: Passing 1d arrays as data is deprecated in 0.17 and will raise ValueError in 0.19. Reshape your data either using X.reshape(-1, 1) if your data has a single feature or X.reshape(1, -1) if it contains a single sample.\n",
      "  warnings.warn(DEPRECATION_MSG_1D, DeprecationWarning)\n"
     ]
    }
   ],
   "source": [
    "scaler = StandardScaler()\n",
    "companies_links_df['a2'] = scaler.fit_transform(companies_links_df['a1'])"
   ]
  }
 ],
 "metadata": {
  "kernelspec": {
   "display_name": "Python 3",
   "language": "python",
   "name": "python3"
  },
  "language_info": {
   "codemirror_mode": {
    "name": "ipython",
    "version": 3
   },
   "file_extension": ".py",
   "mimetype": "text/x-python",
   "name": "python",
   "nbconvert_exporter": "python",
   "pygments_lexer": "ipython3",
   "version": "3.5.1"
  }
 },
 "nbformat": 4,
 "nbformat_minor": 0
}
